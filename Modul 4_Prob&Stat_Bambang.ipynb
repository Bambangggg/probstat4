{
 "cells": [
  {
   "cell_type": "code",
   "execution_count": 1,
   "id": "1ab80f28-cc6e-49e5-be6b-f0a29cdd87a9",
   "metadata": {},
   "outputs": [
    {
     "name": "stdout",
     "output_type": "stream",
     "text": [
      "Probabilitas P(X=k) untuk distribusi binomial: 0.1171875\n"
     ]
    }
   ],
   "source": [
    "import math\n",
    "\n",
    "# Fungsi untuk menghitung kombinasi (n choose k)\n",
    "def n_choose_k(n, k):\n",
    "    return math.factorial(n) / (math.factorial(k) * math.factorial(n - k))\n",
    "\n",
    "# Fungsi untuk menghitung probabilitas P(X=k) dalam distribusi binomial\n",
    "def binomial_probability(n, k, p):\n",
    "    return n_choose_k(n, k) * (p ** k) * ((1 - p) ** (n - k))\n",
    "\n",
    "# Parameter distribusi binomial\n",
    "n = 10  # jumlah percobaan\n",
    "p = 0.5  # probabilitas keberhasilan dalam satu percobaan\n",
    "k = 3  # jumlah keberhasilan yang diinginkan\n",
    "\n",
    "# Menghitung probabilitas P(X=k) untuk distribusi binomial\n",
    "prob_binomial = binomial_probability(n, k, p)\n",
    "print(\"Probabilitas P(X=k) untuk distribusi binomial:\", prob_binomial)"
   ]
  },
  {
   "cell_type": "code",
   "execution_count": 4,
   "id": "1340944f-1354-43fe-a667-6e23529ca928",
   "metadata": {},
   "outputs": [
    {
     "name": "stdout",
     "output_type": "stream",
     "text": [
      "probabilitas P(X=k) untuk distribusi binomial:, prob_binomial\n"
     ]
    }
   ],
   "source": [
    "\n",
    "from scipy.stats import binom\n",
    "\n",
    "n = 10\n",
    "p = 0.5\n",
    "k = 3\n",
    "\n",
    "prob_binomial = binom.pmf(k, n, p)\n",
    "print(\"probabilitas P(X=k) untuk distribusi binomial:, prob_binomial\")"
   ]
  },
  {
   "cell_type": "code",
   "execution_count": 6,
   "id": "35a8da49-a5e0-47c0-a589-38244b356046",
   "metadata": {},
   "outputs": [
    {
     "name": "stdout",
     "output_type": "stream",
     "text": [
      "0.12850543909885503\n"
     ]
    }
   ],
   "source": [
    "from scipy import stats\n",
    "X = stats.binom (15, 0.1)\n",
    "print(X.pmf(3))"
   ]
  },
  {
   "cell_type": "code",
   "execution_count": 7,
   "id": "d1a3c028-d80f-4aa7-8ea9-89c95db0faf8",
   "metadata": {},
   "outputs": [
    {
     "name": "stdout",
     "output_type": "stream",
     "text": [
      "0.8159389308936089\n"
     ]
    }
   ],
   "source": [
    "print(X.cdf(2))"
   ]
  },
  {
   "cell_type": "code",
   "execution_count": 8,
   "id": "98177435-884d-4794-86ac-da06f71cf1a6",
   "metadata": {},
   "outputs": [
    {
     "name": "stdout",
     "output_type": "stream",
     "text": [
      "0.0022160451970800027\n"
     ]
    }
   ],
   "source": [
    "print(X.pmf(6)+X.pmf(7))"
   ]
  },
  {
   "cell_type": "code",
   "execution_count": 9,
   "id": "e367acf9-414a-444d-9225-677a174c8658",
   "metadata": {},
   "outputs": [
    {
     "name": "stdout",
     "output_type": "stream",
     "text": [
      "0.17546736976785063\n"
     ]
    }
   ],
   "source": [
    "from scipy import stats\n",
    "Y = stats.poisson (5)\n",
    "print(Y.pmf(4))\n",
    "# P(Y = 4)"
   ]
  },
  {
   "cell_type": "code",
   "execution_count": 10,
   "id": "e403a780-a00d-4092-a71b-9023bbbc9e0c",
   "metadata": {},
   "outputs": [
    {
     "name": "stdout",
     "output_type": "stream",
     "text": [
      "0.17886305056987975\n"
     ]
    }
   ],
   "source": [
    "from scipy import stats\n",
    "# Mendefinisikan variabel X sebagai distribusi binomial dengan 15 percobaan dan probabilitas sukses 0.1\n",
    "X = stats.binom(20, 0.7)\n",
    "# Menghitung probabilitas massa X sama dengan 3\n",
    "pmf_15 = X. pmf (15)\n",
    "# Mencetak nilai probabilitas\n",
    "print(pmf_15)"
   ]
  },
  {
   "cell_type": "code",
   "execution_count": 11,
   "id": "999aa17e-f6a3-4e90-82a4-cacf77312aeb",
   "metadata": {},
   "outputs": [
    {
     "name": "stdout",
     "output_type": "stream",
     "text": [
      "0.18044704431548356\n"
     ]
    }
   ],
   "source": [
    "from scipy import stats\n",
    "Y = stats.poisson (2)\n",
    "print(Y.pmf(3))"
   ]
  },
  {
   "cell_type": "code",
   "execution_count": 12,
   "id": "f5333790-274d-404a-a3c8-0bc259da0773",
   "metadata": {},
   "outputs": [
    {
     "name": "stdout",
     "output_type": "stream",
     "text": [
      "0.20613038097752093\n"
     ]
    }
   ],
   "source": [
    "from scipy import stats\n",
    "X = stats.binom (15, 0.3)\n",
    "print(X.pmf(5))"
   ]
  },
  {
   "cell_type": "code",
   "execution_count": null,
   "id": "89cd6b87-0805-41a0-817a-5e38f6f4965a",
   "metadata": {},
   "outputs": [],
   "source": []
  }
 ],
 "metadata": {
  "kernelspec": {
   "display_name": "Python 3 (ipykernel)",
   "language": "python",
   "name": "python3"
  },
  "language_info": {
   "codemirror_mode": {
    "name": "ipython",
    "version": 3
   },
   "file_extension": ".py",
   "mimetype": "text/x-python",
   "name": "python",
   "nbconvert_exporter": "python",
   "pygments_lexer": "ipython3",
   "version": "3.12.1"
  }
 },
 "nbformat": 4,
 "nbformat_minor": 5
}
